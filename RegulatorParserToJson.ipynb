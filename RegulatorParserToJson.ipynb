{
  "nbformat": 4,
  "nbformat_minor": 0,
  "metadata": {
    "colab": {
      "provenance": [],
      "mount_file_id": "https://github.com/tubagokhan/ADGM/blob/main/RegulatorParserToJson.ipynb",
      "authorship_tag": "ABX9TyOwfWj86wdvcw/4gw5X9j+8",
      "include_colab_link": true
    },
    "kernelspec": {
      "name": "python3",
      "display_name": "Python 3"
    },
    "language_info": {
      "name": "python"
    }
  },
  "cells": [
    {
      "cell_type": "markdown",
      "metadata": {
        "id": "view-in-github",
        "colab_type": "text"
      },
      "source": [
        "<a href=\"https://colab.research.google.com/github/tubagokhan/ADGM/blob/main/RegulatorParserToJson.ipynb\" target=\"_parent\"><img src=\"https://colab.research.google.com/assets/colab-badge.svg\" alt=\"Open In Colab\"/></a>"
      ]
    },
    {
      "cell_type": "code",
      "source": [
        "from google.colab import drive\n",
        "drive.mount('/content/drive')"
      ],
      "metadata": {
        "colab": {
          "base_uri": "https://localhost:8080/"
        },
        "id": "iiyZqLA-3sUS",
        "outputId": "39d5118c-9c94-4d66-f019-31287048fadf"
      },
      "execution_count": null,
      "outputs": [
        {
          "output_type": "stream",
          "name": "stdout",
          "text": [
            "Drive already mounted at /content/drive; to attempt to forcibly remount, call drive.mount(\"/content/drive\", force_remount=True).\n"
          ]
        }
      ]
    },
    {
      "cell_type": "code",
      "source": [
        "!pip install python-docx"
      ],
      "metadata": {
        "colab": {
          "base_uri": "https://localhost:8080/"
        },
        "id": "M4C7wJbF39tR",
        "outputId": "c9a51a75-8af6-4db0-e382-1b5c62f1d26a"
      },
      "execution_count": 1,
      "outputs": [
        {
          "output_type": "stream",
          "name": "stdout",
          "text": [
            "Collecting python-docx\n",
            "  Downloading python_docx-1.1.0-py3-none-any.whl (239 kB)\n",
            "\u001b[?25l     \u001b[90m━━━━━━━━━━━━━━━━━━━━━━━━━━━━━━━━━━━━━━━━\u001b[0m \u001b[32m0.0/239.6 kB\u001b[0m \u001b[31m?\u001b[0m eta \u001b[36m-:--:--\u001b[0m\r\u001b[2K     \u001b[91m━━━━━━━━━━━━━━━━━━━━━━━━━━━━━\u001b[0m\u001b[90m╺\u001b[0m\u001b[90m━━━━━━━━━━\u001b[0m \u001b[32m174.1/239.6 kB\u001b[0m \u001b[31m5.1 MB/s\u001b[0m eta \u001b[36m0:00:01\u001b[0m\r\u001b[2K     \u001b[90m━━━━━━━━━━━━━━━━━━━━━━━━━━━━━━━━━━━━━━━━\u001b[0m \u001b[32m239.6/239.6 kB\u001b[0m \u001b[31m4.9 MB/s\u001b[0m eta \u001b[36m0:00:00\u001b[0m\n",
            "\u001b[?25hRequirement already satisfied: lxml>=3.1.0 in /usr/local/lib/python3.10/dist-packages (from python-docx) (4.9.4)\n",
            "Requirement already satisfied: typing-extensions in /usr/local/lib/python3.10/dist-packages (from python-docx) (4.5.0)\n",
            "Installing collected packages: python-docx\n",
            "Successfully installed python-docx-1.1.0\n"
          ]
        }
      ]
    },
    {
      "cell_type": "code",
      "execution_count": 5,
      "metadata": {
        "colab": {
          "base_uri": "https://localhost:8080/"
        },
        "id": "Dgk8q8Qs3gTG",
        "outputId": "c0fbc27d-7c27-4b04-c007-591ca491b5bc"
      },
      "outputs": [
        {
          "output_type": "stream",
          "name": "stdout",
          "text": [
            "Data extracted from /content/drive/Othercomputers/MBZUAI/MBZUAI/ADGM Project/ADGM Docs/FSRA Guidance/CMC_VER03.270922.docx and saved to JSON file: /content/drive/Othercomputers/MBZUAI/MBZUAI/ADGM Project/ADGM Docs/FSRA Guidance/CMC_VER03.270922.json\n",
            "Data extracted from /content/drive/Othercomputers/MBZUAI/MBZUAI/ADGM Project/ADGM Docs/FSRA Guidance/Supplementary Guidance OTCLPs (VER02.181223).docx and saved to JSON file: /content/drive/Othercomputers/MBZUAI/MBZUAI/ADGM Project/ADGM Docs/FSRA Guidance/Supplementary Guidance OTCLPs (VER02.181223).json\n",
            "Data extracted from /content/drive/Othercomputers/MBZUAI/MBZUAI/ADGM Project/ADGM Docs/FSRA Guidance/Guidance - Regulation of Spot Commodities Activities in ADGM (VER02.181223).docx and saved to JSON file: /content/drive/Othercomputers/MBZUAI/MBZUAI/ADGM Project/ADGM Docs/FSRA Guidance/Guidance - Regulation of Spot Commodities Activities in ADGM (VER02.181223).json\n",
            "Data extracted from /content/drive/Othercomputers/MBZUAI/MBZUAI/ADGM Project/ADGM Docs/FSRA Guidance/Guidance – Regulatory Framework for Fund Managers of Venture Capital Funds (VER03.181223).docx and saved to JSON file: /content/drive/Othercomputers/MBZUAI/MBZUAI/ADGM Project/ADGM Docs/FSRA Guidance/Guidance – Regulatory Framework for Fund Managers of Venture Capital Funds (VER03.181223).json\n",
            "Data extracted from /content/drive/Othercomputers/MBZUAI/MBZUAI/ADGM Project/ADGM Docs/FSRA Guidance/Guidance - Virtual Asset Activities in ADGM (VER05.181223).docx and saved to JSON file: /content/drive/Othercomputers/MBZUAI/MBZUAI/ADGM Project/ADGM Docs/FSRA Guidance/Guidance - Virtual Asset Activities in ADGM (VER05.181223).json\n",
            "Data extracted from /content/drive/Othercomputers/MBZUAI/MBZUAI/ADGM Project/ADGM Docs/FSRA Guidance/SFWG_Guidance on Principles for the Effective Management of Climate-related Financial Risks.docx and saved to JSON file: /content/drive/Othercomputers/MBZUAI/MBZUAI/ADGM Project/ADGM Docs/FSRA Guidance/SFWG_Guidance on Principles for the Effective Management of Climate-related Financial Risks.json\n",
            "Data extracted from /content/drive/Othercomputers/MBZUAI/MBZUAI/ADGM Project/ADGM Docs/FSRA Guidance/Environmental Social and Governance Disclosures Guidance_VER01.040723.docx and saved to JSON file: /content/drive/Othercomputers/MBZUAI/MBZUAI/ADGM Project/ADGM Docs/FSRA Guidance/Environmental Social and Governance Disclosures Guidance_VER01.040723.json\n",
            "Data extracted from /content/drive/Othercomputers/MBZUAI/MBZUAI/ADGM Project/ADGM Docs/FSRA Guidance/GPM VER03.120623.docx and saved to JSON file: /content/drive/Othercomputers/MBZUAI/MBZUAI/ADGM Project/ADGM Docs/FSRA Guidance/GPM VER03.120623.json\n",
            "Data extracted from /content/drive/Othercomputers/MBZUAI/MBZUAI/ADGM Project/ADGM Docs/FSRA Guidance/Guidance - Private Credit Funds_VER01.040523.docx and saved to JSON file: /content/drive/Othercomputers/MBZUAI/MBZUAI/ADGM Project/ADGM Docs/FSRA Guidance/Guidance - Private Credit Funds_VER01.040523.json\n",
            "Data extracted from /content/drive/Othercomputers/MBZUAI/MBZUAI/ADGM Project/ADGM Docs/FSRA Guidance/Guidance - Disclosure Requirements for Mining Reporting Entities_VER01.280922.docx and saved to JSON file: /content/drive/Othercomputers/MBZUAI/MBZUAI/ADGM Project/ADGM Docs/FSRA Guidance/Guidance - Disclosure Requirements for Mining Reporting Entities_VER01.280922.json\n",
            "Data extracted from /content/drive/Othercomputers/MBZUAI/MBZUAI/ADGM Project/ADGM Docs/FSRA Guidance/Guidance - Continuous Disclosure_VER01.280922.docx and saved to JSON file: /content/drive/Othercomputers/MBZUAI/MBZUAI/ADGM Project/ADGM Docs/FSRA Guidance/Guidance - Continuous Disclosure_VER01.280922.json\n",
            "Data extracted from /content/drive/Othercomputers/MBZUAI/MBZUAI/ADGM Project/ADGM Docs/FSRA Guidance/Draft Guidance - FSRA Guiding Principles for Virtual Assets Regulation and Supervision (IA).docx and saved to JSON file: /content/drive/Othercomputers/MBZUAI/MBZUAI/ADGM Project/ADGM Docs/FSRA Guidance/Draft Guidance - FSRA Guiding Principles for Virtual Assets Regulation and Supervision (IA).json\n",
            "Data extracted from /content/drive/Othercomputers/MBZUAI/MBZUAI/ADGM Project/ADGM Docs/FSRA Guidance/UAE_CRS_Guidance_Notes_17 June 2020 (002).docx and saved to JSON file: /content/drive/Othercomputers/MBZUAI/MBZUAI/ADGM Project/ADGM Docs/FSRA Guidance/UAE_CRS_Guidance_Notes_17 June 2020 (002).json\n",
            "Data extracted from /content/drive/Othercomputers/MBZUAI/MBZUAI/ADGM Project/ADGM Docs/FSRA Guidance/Guidance  Regulation of Digital Securities Activities in ADGM_240224.docx and saved to JSON file: /content/drive/Othercomputers/MBZUAI/MBZUAI/ADGM Project/ADGM Docs/FSRA Guidance/Guidance  Regulation of Digital Securities Activities in ADGM_240224.json\n",
            "Data extracted from /content/drive/Othercomputers/MBZUAI/MBZUAI/ADGM Project/ADGM Docs/FSRA Guidance/Guidance - Digital Securities Offerings and Virtual  Assets under the Financial Services and Markets Regulations_240220.docx and saved to JSON file: /content/drive/Othercomputers/MBZUAI/MBZUAI/ADGM Project/ADGM Docs/FSRA Guidance/Guidance - Digital Securities Offerings and Virtual  Assets under the Financial Services and Markets Regulations_240220.json\n",
            "Data extracted from /content/drive/Othercomputers/MBZUAI/MBZUAI/ADGM Project/ADGM Docs/FSRA Guidance/API - Guidance Note_Final 14 October 2019 Eng.docx and saved to JSON file: /content/drive/Othercomputers/MBZUAI/MBZUAI/ADGM Project/ADGM Docs/FSRA Guidance/API - Guidance Note_Final 14 October 2019 Eng.json\n",
            "Data extracted from /content/drive/Othercomputers/MBZUAI/MBZUAI/ADGM Project/ADGM Docs/FSRA Guidance/Supplementary Guidance  Authorisation of Digital Investment Management (Robo-advisory) Activities.docx and saved to JSON file: /content/drive/Othercomputers/MBZUAI/MBZUAI/ADGM Project/ADGM Docs/FSRA Guidance/Supplementary Guidance  Authorisation of Digital Investment Management (Robo-advisory) Activities.json\n",
            "Data extracted from /content/drive/Othercomputers/MBZUAI/MBZUAI/ADGM Project/ADGM Docs/FSRA Guidance/CONF_VER03.18042019.docx and saved to JSON file: /content/drive/Othercomputers/MBZUAI/MBZUAI/ADGM Project/ADGM Docs/FSRA Guidance/CONF_VER03.18042019.json\n",
            "Data extracted from /content/drive/Othercomputers/MBZUAI/MBZUAI/ADGM Project/ADGM Docs/FSRA Guidance/Guidance_Regulatory Framework for PFP and Multilateral Trading Facilities dealing with Private Capital Markets (VER02.181223).docx and saved to JSON file: /content/drive/Othercomputers/MBZUAI/MBZUAI/ADGM Project/ADGM Docs/FSRA Guidance/Guidance_Regulatory Framework for PFP and Multilateral Trading Facilities dealing with Private Capital Markets (VER02.181223).json\n",
            "Data extracted from /content/drive/Othercomputers/MBZUAI/MBZUAI/ADGM Project/ADGM Docs/FSRA Guidance/Sustainable Finance Supplementary Guidance_VER01.040723.docx and saved to JSON file: /content/drive/Othercomputers/MBZUAI/MBZUAI/ADGM Project/ADGM Docs/FSRA Guidance/Sustainable Finance Supplementary Guidance_VER01.040723.json\n",
            "Data extracted from /content/drive/Othercomputers/MBZUAI/MBZUAI/ADGM Project/ADGM Docs/FSRA Guidance/Guidance - Disclosure Requirements for Petroleum Reporting Entities_VER01.280922.docx and saved to JSON file: /content/drive/Othercomputers/MBZUAI/MBZUAI/ADGM Project/ADGM Docs/FSRA Guidance/Guidance - Disclosure Requirements for Petroleum Reporting Entities_VER01.280922.json\n",
            "Data extracted from /content/drive/Othercomputers/MBZUAI/MBZUAI/ADGM Project/ADGM Docs/FSRA Guidance/FinTech RegLab Guidance_VER01.31082016.docx and saved to JSON file: /content/drive/Othercomputers/MBZUAI/MBZUAI/ADGM Project/ADGM Docs/FSRA Guidance/FinTech RegLab Guidance_VER01.31082016.json\n"
          ]
        }
      ],
      "source": [
        "from docx import Document\n",
        "import json\n",
        "import os\n",
        "import glob\n",
        "\n",
        "def extract_data_from_docx(docx_path):\n",
        "    # Load the DOCX file\n",
        "    doc = Document(docx_path)\n",
        "\n",
        "    # Initialize variables\n",
        "    section_id = 0\n",
        "    subsection_id = 0\n",
        "    context_id = 0\n",
        "    current_section = \"\"\n",
        "    current_subsection = \"\"\n",
        "    current_context = \"\"\n",
        "    data_structure = []\n",
        "    context_level = 0\n",
        "    heading_encountered = False  # Variable to track if a heading has been encountered\n",
        "\n",
        "    # Process the document\n",
        "    for para in doc.paragraphs:\n",
        "        if para.style.name.startswith('Heading'):\n",
        "            heading_level = int(para.style.name.split(' ')[-1])\n",
        "            heading_encountered = True  # Set flag to True once a heading is encountered\n",
        "\n",
        "            if heading_level <= context_level:\n",
        "                # Append the last context before starting a new one\n",
        "                data_structure.append({\n",
        "                    \"SectionID\": str(section_id),\n",
        "                    \"SectionHeader\": current_section,\n",
        "                    \"SubSectionID\": f\"{section_id}.{subsection_id}\",\n",
        "                    \"SubSectionHeader\": current_subsection,\n",
        "                    \"ContextID\": f\"{section_id}.{subsection_id}.{context_id}\",\n",
        "                    \"Context\": current_context.strip()\n",
        "                })\n",
        "                current_context = \"\"\n",
        "\n",
        "            if 'Heading 1' in para.style.name:\n",
        "                section_id += 1\n",
        "                subsection_id = 0\n",
        "                context_id = 0\n",
        "                current_section = para.text.strip()\n",
        "                context_level = 1\n",
        "\n",
        "            elif 'Heading 2' in para.style.name:\n",
        "                subsection_id += 1\n",
        "                context_id = 0\n",
        "                current_subsection = para.text.strip()\n",
        "                context_level = 2\n",
        "\n",
        "            elif 'Heading 3' in para.style.name:\n",
        "                context_id += 1\n",
        "                context_level = 3\n",
        "                current_context += para.text + \" \"\n",
        "\n",
        "            elif para.style.name != \"Heading 1\" and para.style.name != \"Heading 2\" and para.style.name != \"Heading 3\":\n",
        "                current_context += para.text + \" \"\n",
        "\n",
        "        elif heading_encountered and (para.style.name in [\"UK11 Block 0.5\", \"UK11 Block 1.0\", \"Normal\", \"List Paragraph\"] or context_level >= 3):\n",
        "            # Accumulate text for the current context\n",
        "            current_context += para.text + \" \"\n",
        "\n",
        "    # Add the last context if it was not added\n",
        "    if current_context:\n",
        "        data_structure.append({\n",
        "            \"SectionID\": str(section_id),\n",
        "            \"SectionHeader\": current_section,\n",
        "            \"SubSectionID\": f\"{section_id}.{subsection_id}\",\n",
        "            \"SubSectionHeader\": current_subsection,\n",
        "            \"ContextID\": f\"{section_id}.{subsection_id}.{context_id}\",\n",
        "            \"Context\": current_context.strip()\n",
        "        })\n",
        "\n",
        "    return data_structure\n",
        "\n",
        "def process_all_docx_in_folder(folder_path):\n",
        "    for docx_file in glob.glob(os.path.join(folder_path, '*.docx')):\n",
        "        extracted_data = extract_data_from_docx(docx_file)\n",
        "        json_path = docx_file.rsplit('.', 1)[0] + '.json'\n",
        "        with open(json_path, 'w') as json_file:\n",
        "            json.dump(extracted_data, json_file, indent=4)\n",
        "        print(f\"Data extracted from {docx_file} and saved to JSON file: {json_path}\")\n",
        "\n",
        "# Specify the folder containing the DOCX files\n",
        "folder_path = '/content/drive/Othercomputers/MBZUAI/MBZUAI/ADGM Project/ADGM Docs/FSRA Guidance'  # Replace with your folder path\n",
        "process_all_docx_in_folder(folder_path)\n"
      ]
    }
  ]
}