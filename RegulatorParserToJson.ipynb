{
  "nbformat": 4,
  "nbformat_minor": 0,
  "metadata": {
    "colab": {
      "provenance": [],
      "authorship_tag": "ABX9TyMtUu8j2zzeDVbPx6sHrkH1",
      "include_colab_link": true
    },
    "kernelspec": {
      "name": "python3",
      "display_name": "Python 3"
    },
    "language_info": {
      "name": "python"
    }
  },
  "cells": [
    {
      "cell_type": "markdown",
      "metadata": {
        "id": "view-in-github",
        "colab_type": "text"
      },
      "source": [
        "<a href=\"https://colab.research.google.com/github/tubagokhan/ADGM/blob/main/RegulatorParserToJson.ipynb\" target=\"_parent\"><img src=\"https://colab.research.google.com/assets/colab-badge.svg\" alt=\"Open In Colab\"/></a>"
      ]
    },
    {
      "cell_type": "code",
      "source": [
        "from google.colab import drive\n",
        "drive.mount('/content/drive')"
      ],
      "metadata": {
        "colab": {
          "base_uri": "https://localhost:8080/"
        },
        "id": "iiyZqLA-3sUS",
        "outputId": "39d5118c-9c94-4d66-f019-31287048fadf"
      },
      "execution_count": 38,
      "outputs": [
        {
          "output_type": "stream",
          "name": "stdout",
          "text": [
            "Drive already mounted at /content/drive; to attempt to forcibly remount, call drive.mount(\"/content/drive\", force_remount=True).\n"
          ]
        }
      ]
    },
    {
      "cell_type": "code",
      "source": [
        "!pip install python-docx"
      ],
      "metadata": {
        "colab": {
          "base_uri": "https://localhost:8080/"
        },
        "id": "M4C7wJbF39tR",
        "outputId": "6afedae7-99dc-4101-f723-ebff19a71498"
      },
      "execution_count": 39,
      "outputs": [
        {
          "output_type": "stream",
          "name": "stdout",
          "text": [
            "Requirement already satisfied: python-docx in /usr/local/lib/python3.10/dist-packages (1.1.0)\n",
            "Requirement already satisfied: lxml>=3.1.0 in /usr/local/lib/python3.10/dist-packages (from python-docx) (4.9.3)\n",
            "Requirement already satisfied: typing-extensions in /usr/local/lib/python3.10/dist-packages (from python-docx) (4.5.0)\n"
          ]
        }
      ]
    },
    {
      "cell_type": "code",
      "execution_count": 40,
      "metadata": {
        "colab": {
          "base_uri": "https://localhost:8080/"
        },
        "id": "Dgk8q8Qs3gTG",
        "outputId": "37151573-8dba-4a2e-e539-9aa7346b20ef"
      },
      "outputs": [
        {
          "output_type": "stream",
          "name": "stdout",
          "text": [
            "Data extracted and saved to JSON file: /content/drive/Othercomputers/MBZUAI/MBZUAI/Codes/COBS_VER13.301122UpdatedTuba.json\n"
          ]
        }
      ],
      "source": [
        "from docx import Document\n",
        "import json\n",
        "\n",
        "def extract_data_from_docx(docx_path):\n",
        "    # Load the DOCX file\n",
        "    doc = Document(docx_path)\n",
        "\n",
        "    # Initialize variables\n",
        "    section_id = 0\n",
        "    subsection_id = 0\n",
        "    context_id = 0\n",
        "    current_section = \"\"\n",
        "    current_subsection = \"\"\n",
        "    current_context = \"\"\n",
        "    data_structure = []\n",
        "    context_level = 0\n",
        "    heading_encountered = False  # Variable to track if a heading has been encountered\n",
        "\n",
        "    # Process the document\n",
        "    for para in doc.paragraphs:\n",
        "        if para.style.name.startswith('Heading'):\n",
        "            heading_level = int(para.style.name.split(' ')[-1])\n",
        "            heading_encountered = True  # Set flag to True once a heading is encountered\n",
        "\n",
        "            if heading_level <= context_level:\n",
        "                # Append the last context before starting a new one\n",
        "                data_structure.append({\n",
        "                    \"SectionID\": str(section_id),\n",
        "                    \"SectionHeader\": current_section,\n",
        "                    \"SubSectionID\": f\"{section_id}.{subsection_id}\",\n",
        "                    \"SubSectionHeader\": current_subsection,\n",
        "                    \"ContextID\": f\"{section_id}.{subsection_id}.{context_id}\",\n",
        "                    \"Context\": current_context.strip()\n",
        "                })\n",
        "                current_context = \"\"\n",
        "\n",
        "            if 'Heading 1' in para.style.name:\n",
        "                section_id += 1\n",
        "                subsection_id = 0\n",
        "                context_id = 0\n",
        "                current_section = para.text.strip()\n",
        "                context_level = 1\n",
        "\n",
        "            elif 'Heading 2' in para.style.name:\n",
        "                subsection_id += 1\n",
        "                context_id = 0\n",
        "                current_subsection = para.text.strip()\n",
        "                context_level = 2\n",
        "\n",
        "            elif 'Heading 3' in para.style.name:\n",
        "                context_id += 1\n",
        "                context_level = 3\n",
        "                current_context += para.text + \" \"\n",
        "\n",
        "            elif para.style.name != \"Heading 1\" and para.style.name != \"Heading 2\" and para.style.name != \"Heading 3\":\n",
        "                current_context += para.text + \" \"\n",
        "\n",
        "        elif heading_encountered and (para.style.name in [\"UK11 Block 0.5\", \"UK11 Block 1.0\", \"Normal\", \"List Paragraph\"] or context_level >= 3):\n",
        "            # Accumulate text for the current context\n",
        "            current_context += para.text + \" \"\n",
        "\n",
        "    # Add the last context if it was not added\n",
        "    if current_context:\n",
        "        data_structure.append({\n",
        "            \"SectionID\": str(section_id),\n",
        "            \"SectionHeader\": current_section,\n",
        "            \"SubSectionID\": f\"{section_id}.{subsection_id}\",\n",
        "            \"SubSectionHeader\": current_subsection,\n",
        "            \"ContextID\": f\"{section_id}.{subsection_id}.{context_id}\",\n",
        "            \"Context\": current_context.strip()\n",
        "        })\n",
        "\n",
        "    return data_structure\n",
        "\n",
        "# Paths to your files\n",
        "docx_path = '/content/drive/Othercomputers/MBZUAI/MBZUAI/Codes/COBS_VER13.301122UpdatedTuba.docx'  # Replace with your DOCX file path\n",
        "json_path = '/content/drive/Othercomputers/MBZUAI/MBZUAI/Codes/COBS_VER13.301122UpdatedTuba.json'  # Replace with your JSON file path\n",
        "\n",
        "# Extract data from the DOCX file\n",
        "extracted_data = extract_data_from_docx(docx_path)\n",
        "\n",
        "# Write to JSON file\n",
        "with open(json_path, 'w') as json_file:\n",
        "    json.dump(extracted_data, json_file, indent=4)\n",
        "\n",
        "print(f\"Data extracted and saved to JSON file: {json_path}\")\n"
      ]
    }
  ]
}