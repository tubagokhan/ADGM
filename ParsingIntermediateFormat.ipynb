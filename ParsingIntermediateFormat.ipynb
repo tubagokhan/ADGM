{
  "nbformat": 4,
  "nbformat_minor": 0,
  "metadata": {
    "colab": {
      "provenance": [],
      "authorship_tag": "ABX9TyNLDKZN3edt/aLYHUjndVrV",
      "include_colab_link": true
    },
    "kernelspec": {
      "name": "python3",
      "display_name": "Python 3"
    },
    "language_info": {
      "name": "python"
    }
  },
  "cells": [
    {
      "cell_type": "markdown",
      "metadata": {
        "id": "view-in-github",
        "colab_type": "text"
      },
      "source": [
        "<a href=\"https://colab.research.google.com/github/tubagokhan/ADGM/blob/main/ParsingIntermediateFormat.ipynb\" target=\"_parent\"><img src=\"https://colab.research.google.com/assets/colab-badge.svg\" alt=\"Open In Colab\"/></a>"
      ]
    },
    {
      "cell_type": "code",
      "source": [
        "import json\n",
        "\n",
        "def process_file(input_file_path, output_file_path):\n",
        "    data = []\n",
        "    current_entry = None\n",
        "    inside_table = False  # Variable to track if we're inside a table\n",
        "\n",
        "    with open(input_file_path, 'r') as file:\n",
        "        for line in file:\n",
        "            if '/Table Start' in line:\n",
        "                inside_table = True  # Start of table\n",
        "                current_entry['Text'] += '\\n' + line.strip()  # Append the line marking the start of the table\n",
        "                continue  # Skip to the next line\n",
        "            elif '/Table End' in line:\n",
        "                inside_table = False  # End of table\n",
        "                current_entry['Text'] += '\\n' + line.strip()  # Append the line marking the end of the table\n",
        "                continue  # Skip to the next line\n",
        "\n",
        "            if inside_table:\n",
        "                # If we're inside a table, just append the line to the current text\n",
        "                current_entry['Text'] += '\\n' + line.strip()\n",
        "            elif line.startswith('PART ') or line.startswith('APP ') or line[0].isdigit():\n",
        "                # Split the line at the first tab to separate ContextID and Text\n",
        "                parts = line.split('\\t', 1)\n",
        "                context_id = parts[0].strip()  # ContextID is the first part\n",
        "                text = parts[1].strip() if len(parts) > 1 else ''  # Text is the second part, if it exists\n",
        "\n",
        "                # If there's an existing entry, save it before starting a new one\n",
        "                if current_entry:\n",
        "                    data.append(current_entry)\n",
        "\n",
        "                # Start a new entry\n",
        "                current_entry = {'ContextID': context_id, 'Text': text}\n",
        "            elif current_entry:\n",
        "                # Append the current line to the existing 'Text', with a newline\n",
        "                current_entry['Text'] += '\\n' + line.strip()\n",
        "\n",
        "    # Make sure the last entry is added\n",
        "    if current_entry:\n",
        "        data.append(current_entry)\n",
        "\n",
        "    # Save the data to a JSON file\n",
        "    with open(output_file_path, 'w') as json_file:\n",
        "        json.dump(data, json_file, indent=4)\n",
        "\n",
        "# Replace 'input.txt' and 'output.json' with your actual file paths\n",
        "process_file('/content/FUNDS_VER08.040723.txt', '/content/FUNDS_VER08.040723.json')\n"
      ],
      "metadata": {
        "id": "UJocp6mqBUld"
      },
      "execution_count": 4,
      "outputs": []
    }
  ]
}