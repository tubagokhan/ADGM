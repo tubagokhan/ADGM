{
  "nbformat": 4,
  "nbformat_minor": 0,
  "metadata": {
    "colab": {
      "provenance": [],
      "authorship_tag": "ABX9TyNU3/OYKo/hWxHcfSStrx32",
      "include_colab_link": true
    },
    "kernelspec": {
      "name": "python3",
      "display_name": "Python 3"
    },
    "language_info": {
      "name": "python"
    }
  },
  "cells": [
    {
      "cell_type": "markdown",
      "metadata": {
        "id": "view-in-github",
        "colab_type": "text"
      },
      "source": [
        "<a href=\"https://colab.research.google.com/github/tubagokhan/ADGM/blob/main/ParsingIntermediateFormat.ipynb\" target=\"_parent\"><img src=\"https://colab.research.google.com/assets/colab-badge.svg\" alt=\"Open In Colab\"/></a>"
      ]
    },
    {
      "cell_type": "code",
      "source": [
        "import json\n",
        "\n",
        "def process_file(input_file_path, output_file_path):\n",
        "    data = []\n",
        "    current_entry = None\n",
        "\n",
        "    with open(input_file_path, 'r') as file:\n",
        "        for line in file:\n",
        "            if line[0].isdigit():\n",
        "                # Split the line at the first space to separate ContextID and Text\n",
        "                parts = line.split('\\t', 1)\n",
        "                context_id = parts[0].strip()  # ContextID is the first part\n",
        "                text = parts[1].strip() if len(parts) > 1 else ''  # Text is the second part, if it exists\n",
        "                # If there's an existing entry, save it before starting a new one\n",
        "                if current_entry:\n",
        "                    data.append(current_entry)\n",
        "                # Start a new entry\n",
        "                current_entry = {'ContextID': context_id, 'Text': text}\n",
        "            elif current_entry:\n",
        "                # Append the current line to the existing 'Text', with a newline\n",
        "                current_entry['Text'] += '\\n' + line.strip()\n",
        "\n",
        "    # Make sure the last entry is added\n",
        "    if current_entry:\n",
        "        data.append(current_entry)\n",
        "\n",
        "    # Save the data to a JSON file\n",
        "    with open(output_file_path, 'w') as json_file:\n",
        "        json.dump(data, json_file, indent=4)\n",
        "\n",
        "# Replace 'input.txt' and 'output.json' with your actual file paths\n",
        "process_file('/content/cobs_test_040323.txt', '/content/cobs_test_040323.json')\n"
      ],
      "metadata": {
        "id": "UJocp6mqBUld"
      },
      "execution_count": 5,
      "outputs": []
    }
  ]
}