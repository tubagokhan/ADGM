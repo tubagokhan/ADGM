{
  "nbformat": 4,
  "nbformat_minor": 0,
  "metadata": {
    "colab": {
      "provenance": [],
      "authorship_tag": "ABX9TyN+Tj/lu4vuqsU6PsKYCX/k",
      "include_colab_link": true
    },
    "kernelspec": {
      "name": "python3",
      "display_name": "Python 3"
    },
    "language_info": {
      "name": "python"
    }
  },
  "cells": [
    {
      "cell_type": "markdown",
      "metadata": {
        "id": "view-in-github",
        "colab_type": "text"
      },
      "source": [
        "<a href=\"https://colab.research.google.com/github/tubagokhan/ADGM/blob/main/ParsingIntermediateFormat.ipynb\" target=\"_parent\"><img src=\"https://colab.research.google.com/assets/colab-badge.svg\" alt=\"Open In Colab\"/></a>"
      ]
    },
    {
      "cell_type": "code",
      "source": [
        "import json\n",
        "import random\n",
        "import string\n",
        "\n",
        "def generate_unique_identifier(used_identifiers):\n",
        "    while True:\n",
        "        # Generate an identifier consisting of 3 letters followed by 3 digits\n",
        "        identifier = ''.join(random.choices(string.ascii_letters, k=3)) + ''.join(random.choices(string.digits, k=3))\n",
        "        # Check if the identifier is unique\n",
        "        if identifier not in used_identifiers:\n",
        "            return identifier\n",
        "\n",
        "def process_file(input_file_path, output_file_path):\n",
        "    data = []\n",
        "    current_entry = None\n",
        "    inside_table = False  # Variable to track if we're inside a table\n",
        "    used_identifiers = set()  # Set to keep track of used unique identifiers\n",
        "\n",
        "    with open(input_file_path, 'r') as file:\n",
        "        for line in file:\n",
        "            if '/Table Start' in line:\n",
        "                inside_table = True\n",
        "                current_entry['Text'] += '\\n' + line.strip()\n",
        "                continue\n",
        "            elif '/Table End' in line:\n",
        "                inside_table = False\n",
        "                current_entry['Text'] += '\\n' + line.strip()\n",
        "                continue\n",
        "\n",
        "            if inside_table:\n",
        "                current_entry['Text'] += '\\n' + line.strip()\n",
        "            elif line.startswith('PART ') or line[0].isdigit():\n",
        "                parts = line.split('\\t', 1)\n",
        "                context_id = parts[0].strip()\n",
        "                text = parts[1].strip() if len(parts) > 1 else ''\n",
        "\n",
        "                if current_entry:\n",
        "                    data.append(current_entry)\n",
        "\n",
        "                # Generate a unique identifier for the new entry\n",
        "                unique_id = generate_unique_identifier(used_identifiers)\n",
        "                used_identifiers.add(unique_id)\n",
        "\n",
        "                current_entry = {'ID': unique_id, 'ContextID': context_id, 'Text': text}\n",
        "            elif current_entry:\n",
        "                current_entry['Text'] += '\\n' + line.strip()\n",
        "\n",
        "    if current_entry:\n",
        "        data.append(current_entry)\n",
        "\n",
        "    with open(output_file_path, 'w') as json_file:\n",
        "        json.dump(data, json_file, indent=4)\n",
        "\n",
        "# Replace 'input.txt' and 'output.json' with your actual file paths\n",
        "process_file('/content/COBS_VER15.150823.txt', '/content/COBS_VER15.150823.json')\n"
      ],
      "metadata": {
        "id": "UJocp6mqBUld"
      },
      "execution_count": 1,
      "outputs": []
    }
  ]
}