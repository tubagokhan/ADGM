{
  "nbformat": 4,
  "nbformat_minor": 0,
  "metadata": {
    "colab": {
      "provenance": [],
      "mount_file_id": "1JpFBAxOlCXmONtVN1a7Jg1qTW785O5pC",
      "authorship_tag": "ABX9TyPJd1ObOcGR/SyrSPtbYCyK",
      "include_colab_link": true
    },
    "kernelspec": {
      "name": "python3",
      "display_name": "Python 3"
    },
    "language_info": {
      "name": "python"
    }
  },
  "cells": [
    {
      "cell_type": "markdown",
      "metadata": {
        "id": "view-in-github",
        "colab_type": "text"
      },
      "source": [
        "<a href=\"https://colab.research.google.com/github/tubagokhan/ADGM/blob/main/DocumentStatistics.ipynb\" target=\"_parent\"><img src=\"https://colab.research.google.com/assets/colab-badge.svg\" alt=\"Open In Colab\"/></a>"
      ]
    },
    {
      "cell_type": "code",
      "execution_count": 6,
      "metadata": {
        "colab": {
          "base_uri": "https://localhost:8080/"
        },
        "id": "109MEfwhMiqn",
        "outputId": "24645ae3-3974-4191-b361-ef89850e42ba"
      },
      "outputs": [
        {
          "output_type": "stream",
          "name": "stdout",
          "text": [
            "Requirement already satisfied: python-docx in /usr/local/lib/python3.10/dist-packages (1.1.0)\n",
            "Requirement already satisfied: lxml>=3.1.0 in /usr/local/lib/python3.10/dist-packages (from python-docx) (4.9.4)\n",
            "Requirement already satisfied: typing-extensions in /usr/local/lib/python3.10/dist-packages (from python-docx) (4.10.0)\n"
          ]
        }
      ],
      "source": [
        "!pip install python-docx"
      ]
    },
    {
      "cell_type": "code",
      "source": [
        "from docx import Document\n",
        "import os\n",
        "\n",
        "def find_start_paragraph(doc, start_after_titles):\n",
        "    for i, paragraph in enumerate(doc.paragraphs):\n",
        "        # Check if paragraph style is a heading and contains any of the specified titles\n",
        "        if paragraph.style.name.startswith('Heading') and any(title.lower() in paragraph.text.lower() for title in start_after_titles):\n",
        "            return i + 1  # Start counting from the paragraph after this heading\n",
        "    return 0  # If no specific heading is found, start counting from the first paragraph\n",
        "\n",
        "def count_words_from_paragraph(doc, start_paragraph):\n",
        "    word_count = 0\n",
        "    for paragraph in doc.paragraphs[start_paragraph:]:\n",
        "        word_count += len(paragraph.text.split())\n",
        "    return word_count\n",
        "\n",
        "def count_words_in_docx(directory, start_after_titles):\n",
        "    word_counts = {}\n",
        "    for filename in os.listdir(directory):\n",
        "        if filename.endswith('.docx'):\n",
        "            doc_path = os.path.join(directory, filename)\n",
        "            doc = Document(doc_path)\n",
        "            start_paragraph = find_start_paragraph(doc, start_after_titles)\n",
        "            word_count = count_words_from_paragraph(doc, start_paragraph)\n",
        "            word_counts[filename] = word_count\n",
        "    return word_counts\n",
        "\n",
        "# List of possible titles for the content starting point (e.g., after Table of Contents)\n",
        "start_after_titles = ['Table of Contents', 'Contents']\n"
      ],
      "metadata": {
        "id": "BnIjtmLpMuVn"
      },
      "execution_count": 7,
      "outputs": []
    },
    {
      "cell_type": "code",
      "source": [
        "# Set the directory path to your folder containing .docx files\n",
        "directory_path = '/content/drive/Othercomputers/MBZUAI/MBZUAI/ADGM-Project/ADGM-Docs/FSRA Guidance'\n",
        "\n",
        "# Call the function and print the word counts for each .docx file in the directory\n",
        "word_counts = count_words_in_docx(directory_path, start_after_titles)\n",
        "print(word_counts)"
      ],
      "metadata": {
        "colab": {
          "base_uri": "https://localhost:8080/"
        },
        "id": "6qvjtKHURMSb",
        "outputId": "f870b91b-adc7-4354-a6f8-36ff9d630264"
      },
      "execution_count": 8,
      "outputs": [
        {
          "output_type": "stream",
          "name": "stdout",
          "text": [
            "{'CMC_VER03.270922.docx': 11850, 'Supplementary Guidance OTCLPs (VER02.181223).docx': 699, 'Guidance - Regulation of Spot Commodities Activities in ADGM (VER02.181223).docx': 9955, 'Guidance – Regulatory Framework for Fund Managers of Venture Capital Funds (VER03.181223).docx': 2271, 'Guidance - Virtual Asset Activities in ADGM (VER05.181223).docx': 19893, 'SFWG_Guidance on Principles for the Effective Management of Climate-related Financial Risks.docx': 3284, 'Environmental Social and Governance Disclosures Guidance_VER01.040723.docx': 1376, 'GPM VER03.120623.docx': 30483, 'Guidance - Private Credit Funds_VER01.040523.docx': 618, 'Guidance - Disclosure Requirements for Mining Reporting Entities_VER01.280922.docx': 10993, 'Guidance - Continuous Disclosure_VER01.280922.docx': 7001, 'Draft Guidance - FSRA Guiding Principles for Virtual Assets Regulation and Supervision (IA).docx': 2140, 'UAE_CRS_Guidance_Notes_17 June 2020 (002).docx': 14130, 'Guidance  Regulation of Digital Securities Activities in ADGM_240224.docx': 11522, 'Guidance - Digital Securities Offerings and Virtual  Assets under the Financial Services and Markets Regulations_240220.docx': 2049, 'API - Guidance Note_Final 14 October 2019 Eng.docx': 3922, 'Supplementary Guidance  Authorisation of Digital Investment Management (Robo-advisory) Activities.docx': 3484, 'CONF_VER03.18042019.docx': 3612, 'Guidance_Regulatory Framework for PFP and Multilateral Trading Facilities dealing with Private Capital Markets (VER02.181223).docx': 5334, 'Sustainable Finance Supplementary Guidance_VER01.040723.docx': 3698, 'Guidance - Disclosure Requirements for Petroleum Reporting Entities_VER01.280922.docx': 7699, 'FinTech RegLab Guidance_VER01.31082016.docx': 2641}\n"
          ]
        }
      ]
    },
    {
      "cell_type": "code",
      "source": [
        "# Set the directory path to your folder containing .docx files\n",
        "directory_path = '/content/drive/Othercomputers/MBZUAI/MBZUAI/ADGM-Project/ADGM-Docs/FSRA Regulations'\n",
        "\n",
        "# Call the function and print the word counts for each .docx file in the directory\n",
        "word_counts = count_words_in_docx(directory_path, start_after_titles)\n",
        "print(word_counts)"
      ],
      "metadata": {
        "colab": {
          "base_uri": "https://localhost:8080/"
        },
        "id": "0Yp_FmwPP4D2",
        "outputId": "0d05d419-ead3-45aa-9586-c1ed04c972f6"
      },
      "execution_count": 9,
      "outputs": [
        {
          "output_type": "stream",
          "name": "stdout",
          "text": [
            "{'FSMR (Consolidated_December 2023).docx': 77777, 'BRR Regulations (December 2018).docx': 24905, 'CRS Regulations 2017 (Consolidated_October 2023) v6.docx': 1680, 'Foreign Tax Account Compliance Regulations 2022.docx': 1581}\n"
          ]
        }
      ]
    },
    {
      "cell_type": "code",
      "source": [
        "# Set the directory path to your folder containing .docx files\n",
        "directory_path = '/content/drive/Othercomputers/MBZUAI/MBZUAI/ADGM-Project/ADGM-Docs/FSRA Rulebooks'\n",
        "\n",
        "# Call the function and print the word counts for each .docx file in the directory\n",
        "word_counts = count_words_in_docx(directory_path, start_after_titles)\n",
        "print(word_counts)"
      ],
      "metadata": {
        "colab": {
          "base_uri": "https://localhost:8080/"
        },
        "id": "pzEXVB36Qfft",
        "outputId": "62f0d654-11e8-4bed-873e-30e6614176b7"
      },
      "execution_count": 10,
      "outputs": [
        {
          "output_type": "stream",
          "name": "stdout",
          "text": [
            "{'PIN_VER05.181223.docx': 41259, 'PRU_VER13.181223.docx': 112616, 'CIB_VER04.030220.docx': 14464, 'COBS_VER15.150823.docx': 48265, 'FEES_VER16.181223.docx': 6280, 'FP_VER01.110319.docx': 4337, 'FUNDS_VER08.040723.docx': 33372, 'GEN_VER08.181223.docx': 3236, 'GLO_VER19.181223.docx': 208, 'MIR_VER07.181223.docx': 29567, 'MKT_VER08.181223.docx': 41444, 'AML_VER09.211223.docx': 27412, 'IFR_VER07.181223.docx': 859}\n"
          ]
        }
      ]
    },
    {
      "cell_type": "code",
      "source": [
        "from docx import Document\n",
        "\n",
        "# Function to find the start paragraph index after a specific title (e.g., \"Table of Contents\")\n",
        "def find_start_paragraph(doc, start_after_titles):\n",
        "    for i, paragraph in enumerate(doc.paragraphs):\n",
        "        if any(title.lower() in paragraph.text.lower() for title in start_after_titles):\n",
        "            return i + 1\n",
        "    return 0\n",
        "\n",
        "# Function to count words from a specific paragraph index in the document\n",
        "def count_words_from_paragraph(doc, start_paragraph):\n",
        "    word_count = 0\n",
        "    for paragraph in doc.paragraphs[start_paragraph:]:\n",
        "        word_count += len(paragraph.text.split())\n",
        "    return word_count\n",
        "\n",
        "# Function to count words in a docx file, starting after specified titles if they exist\n",
        "def count_words_in_doc(file_path, start_after_titles):\n",
        "    doc = Document(file_path)\n",
        "    start_paragraph = find_start_paragraph(doc, start_after_titles)\n",
        "    word_count = count_words_from_paragraph(doc, start_paragraph)\n",
        "    return word_count\n",
        "\n",
        "# File path to the uploaded document\n",
        "file_path = '/content/drive/Othercomputers/MBZUAI/MBZUAI/ADGM-Project/ADGM-Docs/FSRA Guidance/ADGM_Guidance_-_Application_of_English_Laws.DOCX'\n",
        "\n",
        "# Titles to look for as the start point for word counting\n",
        "start_after_titles = ['Table of Contents', 'Contents', 'Introduction']\n",
        "\n",
        "# Count words in the document, starting after the specified titles\n",
        "word_count = count_words_in_doc(file_path, start_after_titles)\n",
        "\n",
        "print(f'Word count (after specified titles if found): {word_count}')\n"
      ],
      "metadata": {
        "colab": {
          "base_uri": "https://localhost:8080/"
        },
        "id": "T566mfvDTc-Z",
        "outputId": "86a4e82e-c1a0-41c5-d1ac-31f129f3d84c"
      },
      "execution_count": 11,
      "outputs": [
        {
          "output_type": "stream",
          "name": "stdout",
          "text": [
            "Word count (after specified titles if found): 1717\n"
          ]
        }
      ]
    }
  ]
}